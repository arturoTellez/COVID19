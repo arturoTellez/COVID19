{
 "cells": [
  {
   "cell_type": "code",
   "execution_count": 1,
   "metadata": {},
   "outputs": [
    {
     "name": "stderr",
     "output_type": "stream",
     "text": [
      "Loading required package: ggplot2\n",
      "\n",
      "Attaching package: ‘plotly’\n",
      "\n",
      "The following object is masked from ‘package:ggplot2’:\n",
      "\n",
      "    last_plot\n",
      "\n",
      "The following object is masked from ‘package:stats’:\n",
      "\n",
      "    filter\n",
      "\n",
      "The following object is masked from ‘package:graphics’:\n",
      "\n",
      "    layout\n",
      "\n"
     ]
    }
   ],
   "source": [
    "library(plotly)\n",
    "library(htmlwidgets)\n"
   ]
  },
  {
   "cell_type": "code",
   "execution_count": 2,
   "metadata": {},
   "outputs": [],
   "source": [
    "get_div <- function(texto){\n",
    "    bandera <- apply(texto, 1, function(x) grepl(\"div\", x))\n",
    "    return(texto[bandera, , drop = F])\n",
    "}\n",
    "get_script <- function(texto){\n",
    "    bandera <- cumsum(apply(texto, 1, function(x) grepl(\"div\", x)))\n",
    "    texto_aux <- texto[bandera >0,, drop = F]\n",
    "    bandera <- apply(texto_aux, 1, function(x) grepl(\"script\", x))\n",
    "    texto_aux <- texto_aux[bandera, , drop = F]\n",
    "    return(texto_aux)\n",
    "}\n",
    "\n",
    "replace_texto <- function(texto, orig, new){\n",
    "    return(gsub(orig, new, texto))\n",
    "}"
   ]
  },
  {
   "cell_type": "code",
   "execution_count": 3,
   "metadata": {},
   "outputs": [],
   "source": [
    "master <- read.delim(\"dashboard.html\", as.is = TRUE, header = FALSE, quote = \"{}\")\n",
    "nueva_grafica <- read.delim(\"mapa.html\", as.is = TRUE, quote = \"@\")\n",
    "\n",
    "agregar_graficas <- function(master, nueva_grafica, alto = 700, texto_intermedio = \"\", titulo = \"Mapa interactivo\"){\n",
    "    master[62,] <- replace_texto(master[62,], \"Mapa interactivo\", titulo)\n",
    "    names(nueva_grafica) <- names(master)\n",
    "    divs <- get_div(nueva_grafica)\n",
    "    scripts <- get_script(nueva_grafica)\n",
    "    divs[1,] <- replace_texto(divs[1,], \"htmlwidget_container\", \"container\")\n",
    "    divs[2,] <- replace_texto(divs[2,], \"400\", \"700\")\n",
    "    bandera <- cumsum(apply(master, 1, function(x) grepl(\"Aquí van los conteiners\", x)))\n",
    "    bandera <- cumsum(apply(master, 1, function(x) grepl(\"Aquí van los conteiners\", x)))\n",
    "    master1 <- master[bandera == 0,, drop = FALSE]\n",
    "    master2 <- master[bandera == 1,, drop = FALSE]\n",
    "    espaciado <- data.frame(\"temp\" = c(\"<br>\", \"<br>\"), stringsAsFactors = F)\n",
    "    if(texto_intermedio != \"\"){\n",
    "        espaciado[3,\"temp\"] <- texto_intermedio\n",
    "    }                            \n",
    "    names(espaciado) <- names(master)\n",
    "    master <- rbind(master1, divs, espaciado, master2)\n",
    "    bandera <- cumsum(apply(master, 1, function(x) grepl(\"Aquí van los scripts\", x)))\n",
    "    master1 <- master[bandera == 0,, drop = FALSE]\n",
    "    master2 <- master[bandera == 1,, drop = FALSE]\n",
    "    master <- rbind(master1, scripts, master2)\n",
    "    return(master)\n",
    "}\n",
    "\n",
    "                            \n",
    "master <- agregar_graficas(master, nueva_grafica)\n",
    "                            \n",
    "write.table(master, \"dashboard-mapa.html\", row.names = F, quote = F, col.names = F)  \n",
    "                            "
   ]
  },
  {
   "cell_type": "markdown",
   "metadata": {},
   "source": [
    "### Casos Diarios"
   ]
  },
  {
   "cell_type": "code",
   "execution_count": 4,
   "metadata": {},
   "outputs": [],
   "source": [
    "master <- read.delim(\"dashboard.html\", as.is = TRUE, header = FALSE, quote = \"{}\")\n",
    "\n",
    "nueva_grafica <- read.delim(\"casos_diarios.html\", as.is = TRUE, quote = \"@\")\n",
    "master <- agregar_graficas(master, nueva_grafica, \"500\", titulo = \"Casos Diarios\", texto_intermedio = \"<h3>Fallecimientos Diarios</h3>\")\n",
    "  \n",
    "nueva_grafica <- read.delim(\"fallecimientos_diarios.html\", as.is = TRUE, quote = \"@\")\n",
    "master <- agregar_graficas(master, nueva_grafica, \"500\")\n",
    "\n",
    "\n",
    "write.table(master, \"dashboard-casos-diarios.html\", row.names = F, quote = F, col.names = F)  "
   ]
  },
  {
   "cell_type": "markdown",
   "metadata": {},
   "source": [
    "### Enfermedades"
   ]
  },
  {
   "cell_type": "code",
   "execution_count": 5,
   "metadata": {},
   "outputs": [],
   "source": [
    "master <- read.delim(\"dashboard.html\", as.is = TRUE, header = FALSE, quote = \"{}\")\n",
    "\n",
    "nueva_grafica <- read.delim(\"enfermedades_confirmados.html\", as.is = TRUE, quote = \"@\")\n",
    "master <- agregar_graficas(master, nueva_grafica, titulo = \"Condiciones de los confirmados por COVID19\", texto_intermedio = \"<h3>Condiciones de Defunciones</h3>\")\n",
    "\n",
    "nueva_grafica <- read.delim(\"enfermedades.html\", as.is = TRUE, quote = \"@\")\n",
    "master <- agregar_graficas(master, nueva_grafica)\n",
    "                            \n",
    "                            \n",
    "write.table(master, \"dashboard-condiciones.html\", row.names = F, quote = F, col.names = F)  "
   ]
  },
  {
   "cell_type": "markdown",
   "metadata": {},
   "source": [
    "### Fallecimientos"
   ]
  },
  {
   "cell_type": "code",
   "execution_count": 6,
   "metadata": {},
   "outputs": [],
   "source": [
    "master <- read.delim(\"dashboard.html\", as.is = TRUE, header = FALSE, quote = \"{}\")\n",
    "\n",
    "nueva_grafica <- read.delim(\"Letalidad.html\", as.is = TRUE, quote = \"@\")\n",
    "master <- agregar_graficas(master, nueva_grafica, \"500\", titulo = \"Defunciones por Edad\", texto_intermedio = \"<h3>Evoluación de casos diarios</h3>\")\n",
    "\n",
    "\n",
    "nueva_grafica <- read.delim(\"tiempo_fallecimiento_edad.html\", as.is = TRUE, quote = \"@\")\n",
    "master <- agregar_graficas(master, nueva_grafica, \"500\")\n",
    "\n",
    "                            \n",
    "                            \n",
    "write.table(master, \"dashboard-fallecimientos.html\", row.names = F, quote = F, col.names = F) "
   ]
  }
 ],
 "metadata": {
  "kernelspec": {
   "display_name": "R",
   "language": "R",
   "name": "ir"
  },
  "language_info": {
   "codemirror_mode": "r",
   "file_extension": ".r",
   "mimetype": "text/x-r-source",
   "name": "R",
   "pygments_lexer": "r",
   "version": "3.6.2"
  }
 },
 "nbformat": 4,
 "nbformat_minor": 2
}
